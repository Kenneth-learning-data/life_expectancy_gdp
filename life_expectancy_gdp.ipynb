{
 "cells": [
  {
   "cell_type": "code",
   "execution_count": 1,
   "metadata": {},
   "outputs": [],
   "source": [
    "import pandas as pd\n",
    "import matplotlib.pyplot as plt\n",
    "import numpy as np\n",
    "import seaborn as sns"
   ]
  },
  {
   "cell_type": "code",
   "execution_count": 2,
   "metadata": {},
   "outputs": [],
   "source": [
    "df = pd.read_csv(\"all_data.csv\")"
   ]
  },
  {
   "cell_type": "code",
   "execution_count": 3,
   "metadata": {},
   "outputs": [],
   "source": [
    "df.columns = ['country', 'year', 'life expectancy','gdp']"
   ]
  },
  {
   "cell_type": "code",
   "execution_count": 4,
   "metadata": {
    "scrolled": true
   },
   "outputs": [
    {
     "name": "stdout",
     "output_type": "stream",
     "text": [
      "  country  year  life expectancy           gdp\n",
      "0   Chile  2000             77.3  7.786093e+10\n",
      "1   Chile  2001             77.3  7.097992e+10\n",
      "2   Chile  2002             77.8  6.973681e+10\n",
      "3   Chile  2003             77.9  7.564346e+10\n",
      "4   Chile  2004             78.0  9.921039e+10\n",
      "5   Chile  2005             78.4  1.229650e+11\n",
      "6   Chile  2006             78.9  1.547880e+11\n",
      "7   Chile  2007             78.9  1.736060e+11\n",
      "8   Chile  2008             79.6  1.796380e+11\n",
      "9   Chile  2009             79.3  1.723890e+11\n",
      "              year  life expectancy           gdp\n",
      "count    96.000000        96.000000  9.600000e+01\n",
      "mean   2007.500000        72.789583  3.880499e+12\n",
      "std       4.633971        10.672882  5.197561e+12\n",
      "min    2000.000000        44.300000  4.415703e+09\n",
      "25%    2003.750000        74.475000  1.733018e+11\n",
      "50%    2007.500000        76.750000  1.280220e+12\n",
      "75%    2011.250000        78.900000  4.067510e+12\n",
      "max    2015.000000        81.000000  1.810000e+13\n",
      "<class 'pandas.core.frame.DataFrame'>\n",
      "RangeIndex: 96 entries, 0 to 95\n",
      "Data columns (total 4 columns):\n",
      "country            96 non-null object\n",
      "year               96 non-null int64\n",
      "life expectancy    96 non-null float64\n",
      "gdp                96 non-null float64\n",
      "dtypes: float64(2), int64(1), object(1)\n",
      "memory usage: 3.1+ KB\n",
      "None\n"
     ]
    }
   ],
   "source": [
    "\n",
    "print(df.head(10))\n",
    "print(df.describe())\n",
    "print(df.info())\n"
   ]
  },
  {
   "cell_type": "code",
   "execution_count": 14,
   "metadata": {},
   "outputs": [
    {
     "name": "stdout",
     "output_type": "stream",
     "text": [
      "6\n",
      "['Chile' 'China' 'Germany' 'Mexico' 'United States of America' 'Zimbabwe']\n",
      "[2000 2001 2002 2003 2004 2005 2006 2007 2008 2009 2010 2011 2012 2013\n",
      " 2014 2015]\n"
     ]
    }
   ],
   "source": [
    "#total 4 columns : country/ year /life expectancy / gdp\n",
    "\n",
    "print(df.country.nunique())\n",
    "#6 countries\n",
    "\n",
    "country = df.country.unique()\n",
    "print(country)\n",
    "#['Chile' 'China' 'Germany' 'Mexico' 'United States of America' 'Zimbabwe']\n",
    "\n",
    "print(df.year.unique())\n",
    "#16\n",
    "#2000 -2015\n"
   ]
  },
  {
   "cell_type": "code",
   "execution_count": 44,
   "metadata": {},
   "outputs": [
    {
     "data": {
      "image/png": "[encoded data removed]",
      "text/plain": [
       "<Figure size 432x288 with 1 Axes>"
      ]
     },
     "metadata": {
      "needs_background": "light"
     },
     "output_type": "display_data"
    }
   ],
   "source": [
    "def six_countries_LE(country):\n",
    "    country_df= df[df.country== country]\n",
    "    plt.scatter(country_df.year, country_df['life expectancy'])\n",
    "    plt.legend(['Chile', 'China' ,'Germany' ,'Mexico', 'United States of America', 'Zimbabwe'], loc=\"best\")\n",
    "    plt.xlabel(\"year\")\n",
    "    plt.ylabel('Life expectancy')\n",
    "    plt.title(\"6 countires life expectancy over years\")\n",
    "\n",
    "six_countries_LE(\"Chile\")\n",
    "six_countries_LE(\"China\")\n",
    "six_countries_LE(\"Mexico\")\n",
    "six_countries_LE(\"United States of America\")\n",
    "six_countries_LE(\"Zimbabwe\")\n",
    "\n",
    "#increasing trends in 6 countries \n",
    "#Except US, all countries have similar trends, increasing slightly"
   ]
  },
  {
   "cell_type": "markdown",
   "metadata": {},
   "source": []
  }
 ],
 "metadata": {
  "kernelspec": {
   "display_name": "Python 3",
   "language": "python",
   "name": "python3"
  },
  "language_info": {
   "codemirror_mode": {
    "name": "ipython",
    "version": 3
   },
   "file_extension": ".py",
   "mimetype": "text/x-python",
   "name": "python",
   "nbconvert_exporter": "python",
   "pygments_lexer": "ipython3",
   "version": "3.7.5"
  }
 },
 "nbformat": 4,
 "nbformat_minor": 4
}
